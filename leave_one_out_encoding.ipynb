{
 "metadata": {
  "name": "",
  "signature": "sha256:91a980d4d49134d97df0e7c3d0b0dae8d6aacde6774e4477223eacc5222a2a12"
 },
 "nbformat": 3,
 "nbformat_minor": 0,
 "worksheets": [
  {
   "cells": [
    {
     "cell_type": "markdown",
     "metadata": {},
     "source": [
      "## Leave One Out Encoding\n",
      "\n",
      "Transforming the categorical variables to numericals (probabilities). This is useful the variables where the uniqie number of values are huge for example zip code, ip address etc"
     ]
    },
    {
     "cell_type": "markdown",
     "metadata": {},
     "source": [
      " This is inspired by <b>Owen</b> https://www.kaggle.com/owenzhang1 <link>.\n",
      "\n",
      " Here is the talk where he mentioned this trick http://nycdatascience.com/featured-talk-1-kaggle-data-scientist-owen-zhang/"
     ]
    },
    {
     "cell_type": "code",
     "collapsed": false,
     "input": [
      "import numpy as np\n",
      "import pandas as pd\n",
      "\n",
      "def leave_one_out_encoding(c_train,c_test,y):\n",
      "    encoded_train = c_train.copy()\n",
      "    encoded_test = c_test.copy()\n",
      "    unique_categories = np.array(list(set(c_train).union(set(c_test))))\n",
      "#     print unique_categories\n",
      "    for c in unique_categories:\n",
      "        c_counts = np.sum(c_train==c)\n",
      "        if c_counts == 0:\n",
      "            encoded_test[c_test == c] = 0.5\n",
      "        elif c_counts == 1:\n",
      "            encoded_train[c_train==c] = 0.5\n",
      "            encoded_test[c_test == c] = 0.5\n",
      "        else:\n",
      "            positive_c = np.logical_and(c_train==c,y==1)\n",
      "            negative_c = np.logical_and(c_train==c,y==0)\n",
      "            positive_c_count = np.sum(positive_c)\n",
      "            negative_c_count = np.sum(negative_c)\n",
      "            \n",
      "            encoded_train[positive_c] = 1.0 * (positive_c_count-1)/(c_counts-1)\n",
      "            encoded_train[negative_c] = 1.0 * (positive_c_count)/(c_counts-1)\n",
      "            \n",
      "            encoded_test[c_test == c] = 1.0 * (positive_c_count)/(c_counts)\n",
      "            \n",
      "    noise = np.random.normal(1.0,0.1,len(c_train))\n",
      "    encoded_train = encoded_train * noise\n",
      "    \n",
      "    return encoded_train,encoded_test"
     ],
     "language": "python",
     "metadata": {},
     "outputs": [],
     "prompt_number": 1
    },
    {
     "cell_type": "markdown",
     "metadata": {},
     "source": [
      "### Working Example"
     ]
    },
    {
     "cell_type": "code",
     "collapsed": false,
     "input": [
      "train = pd.DataFrame({'user_id':['A1','A1','A1','A1'],'target':[0,1,1,0]})\n",
      "train"
     ],
     "language": "python",
     "metadata": {},
     "outputs": [
      {
       "html": [
        "<div style=\"max-height:1000px;max-width:1500px;overflow:auto;\">\n",
        "<table border=\"1\" class=\"dataframe\">\n",
        "  <thead>\n",
        "    <tr style=\"text-align: right;\">\n",
        "      <th></th>\n",
        "      <th>target</th>\n",
        "      <th>user_id</th>\n",
        "    </tr>\n",
        "  </thead>\n",
        "  <tbody>\n",
        "    <tr>\n",
        "      <th>0</th>\n",
        "      <td>0</td>\n",
        "      <td>A1</td>\n",
        "    </tr>\n",
        "    <tr>\n",
        "      <th>1</th>\n",
        "      <td>1</td>\n",
        "      <td>A1</td>\n",
        "    </tr>\n",
        "    <tr>\n",
        "      <th>2</th>\n",
        "      <td>1</td>\n",
        "      <td>A1</td>\n",
        "    </tr>\n",
        "    <tr>\n",
        "      <th>3</th>\n",
        "      <td>0</td>\n",
        "      <td>A1</td>\n",
        "    </tr>\n",
        "  </tbody>\n",
        "</table>\n",
        "</div>"
       ],
       "metadata": {},
       "output_type": "pyout",
       "prompt_number": 2,
       "text": [
        "   target user_id\n",
        "0       0      A1\n",
        "1       1      A1\n",
        "2       1      A1\n",
        "3       0      A1"
       ]
      }
     ],
     "prompt_number": 2
    },
    {
     "cell_type": "code",
     "collapsed": false,
     "input": [
      "test = pd.DataFrame({'user_id':['A1','A1']})\n",
      "test"
     ],
     "language": "python",
     "metadata": {},
     "outputs": [
      {
       "html": [
        "<div style=\"max-height:1000px;max-width:1500px;overflow:auto;\">\n",
        "<table border=\"1\" class=\"dataframe\">\n",
        "  <thead>\n",
        "    <tr style=\"text-align: right;\">\n",
        "      <th></th>\n",
        "      <th>user_id</th>\n",
        "    </tr>\n",
        "  </thead>\n",
        "  <tbody>\n",
        "    <tr>\n",
        "      <th>0</th>\n",
        "      <td>A1</td>\n",
        "    </tr>\n",
        "    <tr>\n",
        "      <th>1</th>\n",
        "      <td>A1</td>\n",
        "    </tr>\n",
        "  </tbody>\n",
        "</table>\n",
        "</div>"
       ],
       "metadata": {},
       "output_type": "pyout",
       "prompt_number": 3,
       "text": [
        "  user_id\n",
        "0      A1\n",
        "1      A1"
       ]
      }
     ],
     "prompt_number": 3
    },
    {
     "cell_type": "code",
     "collapsed": false,
     "input": [
      "train_vals, test_vals = leave_one_out_encoding(train.user_id,test.user_id,train.target)\n",
      "print 'Train values :'\n",
      "print train_vals\n",
      "\n",
      "print 'Test values :'\n",
      "print test_vals"
     ],
     "language": "python",
     "metadata": {},
     "outputs": [
      {
       "output_type": "stream",
       "stream": "stdout",
       "text": [
        "Train values :\n",
        "0    0.7052421\n",
        "1    0.3488419\n",
        "2    0.3365051\n",
        "3    0.6812741\n",
        "Name: user_id, dtype: object\n",
        "Test values :\n",
        "0    0.5\n",
        "1    0.5\n",
        "Name: user_id, dtype: object\n"
       ]
      }
     ],
     "prompt_number": 4
    }
   ],
   "metadata": {}
  }
 ]
}